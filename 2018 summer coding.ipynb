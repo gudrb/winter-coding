{
 "cells": [
  {
   "cell_type": "markdown",
   "metadata": {},
   "source": [
    "# 1"
   ]
  },
  {
   "cell_type": "code",
   "execution_count": 3,
   "metadata": {},
   "outputs": [
    {
     "data": {
      "text/plain": [
       "4"
      ]
     },
     "execution_count": 3,
     "metadata": {},
     "output_type": "execute_result"
    }
   ],
   "source": [
    "d = [2,2,3,3]\n",
    "budget  = 10\n",
    "def solution(d, budget):\n",
    "    distribute = sorted(d)\n",
    "    cnt =0 \n",
    "    for i in distribute:\n",
    "        budget -= i\n",
    "        cnt += 1\n",
    "        if budget< 0:\n",
    "            return (cnt-1)\n",
    "        elif budget ==0:\n",
    "            return cnt\n",
    "        else:\n",
    "            pass\n",
    "    answer = 0\n",
    "    return answer\n",
    "solution(d, budget)"
   ]
  },
  {
   "cell_type": "markdown",
   "metadata": {},
   "source": [
    "# 2"
   ]
  },
  {
   "cell_type": "code",
   "execution_count": 36,
   "metadata": {},
   "outputs": [
    {
     "name": "stdout",
     "output_type": "stream",
     "text": [
      "[3, 4, 5]\n"
     ]
    },
    {
     "data": {
      "text/plain": [
       "3"
      ]
     },
     "execution_count": 36,
     "metadata": {},
     "output_type": "execute_result"
    }
   ],
   "source": [
    "A = [3,3,4,2]\n",
    "B = [5,4,3,2]\n",
    "def solution(A, B):\n",
    "    \n",
    "    realB = []\n",
    "    A = sorted(A)\n",
    "    for i in A:\n",
    "        stack = []\n",
    "        for j in reversed(sorted(B)):\n",
    "            \n",
    "            if j>i:\n",
    "                stack.append(j)\n",
    "#         print(stack)\n",
    "        if stack:\n",
    "            realB.append(min(stack))\n",
    "            B.remove(min(stack))\n",
    "        else:\n",
    "            continue\n",
    "#         print(B)\n",
    "    cnt =0\n",
    "    print(realB)\n",
    "    for k in range(len(realB)):\n",
    "        \n",
    "        if A[k] < realB[k]:\n",
    "            cnt+= 1\n",
    "    answer = cnt\n",
    "    return answer\n",
    "solution(A, B)"
   ]
  },
  {
   "cell_type": "code",
   "execution_count": 8,
   "metadata": {},
   "outputs": [
    {
     "name": "stdout",
     "output_type": "stream",
     "text": [
      "[2, 6, 8]\n"
     ]
    }
   ],
   "source": [
    "B = [2,2,6,8]\n",
    "B.remove(2)\n",
    "print(B)"
   ]
  },
  {
   "cell_type": "markdown",
   "metadata": {},
   "source": [
    "# 3"
   ]
  },
  {
   "cell_type": "code",
   "execution_count": 47,
   "metadata": {
    "scrolled": true
   },
   "outputs": [
    {
     "name": "stdout",
     "output_type": "stream",
     "text": [
      "['tank']\n",
      "['tank', 'kick']\n",
      "['tank', 'kick', 'know']\n",
      "['tank', 'kick', 'know', 'wheel']\n",
      "['tank', 'kick', 'know', 'wheel', 'land']\n",
      "['tank', 'kick', 'know', 'wheel', 'land', 'dream']\n",
      "['tank', 'kick', 'know', 'wheel', 'land', 'dream', 'mother']\n",
      "['tank', 'kick', 'know', 'wheel', 'land', 'dream', 'mother', 'robot']\n"
     ]
    },
    {
     "data": {
      "text/plain": [
       "[3, 3]"
      ]
     },
     "execution_count": 47,
     "metadata": {},
     "output_type": "execute_result"
    }
   ],
   "source": [
    "words = ['tank', 'kick', 'know', 'wheel', 'land', 'dream', 'mother', 'robot', 'tank']\n",
    "n =3\n",
    "def solution(n, words):\n",
    "    stack = []\n",
    "    for i,value in enumerate(words):\n",
    "        if i == 0:\n",
    "            stack.append(value)\n",
    "            continue\n",
    "        if words[i-1][len(words[i-1])-1] != value[0]:\n",
    "            return[(i%n)+1,i//n+1]\n",
    "        \n",
    "        print(stack)\n",
    "        if value in stack:\n",
    "            return[(i%n)+1,i//n+1]\n",
    "        stack.append(value)\n",
    "    return [0,0]\n",
    "        \n",
    "    answer = []\n",
    "\n",
    "    # [실행] 버튼을 누르면 출력 값을 볼 수 있습니다.\n",
    "    print('Hello Python')\n",
    "\n",
    "    return answer\n",
    "solution(n, words)"
   ]
  },
  {
   "cell_type": "markdown",
   "metadata": {},
   "source": [
    "# 4"
   ]
  },
  {
   "cell_type": "code",
   "execution_count": 56,
   "metadata": {},
   "outputs": [
    {
     "data": {
      "text/plain": [
       "5"
      ]
     },
     "execution_count": 56,
     "metadata": {},
     "output_type": "execute_result"
    }
   ],
   "source": [
    "land = [[1, 2], [2, 3]]\n",
    "P =3\n",
    "Q =2\n",
    "def solution(land, P, Q):\n",
    "    array = []\n",
    "    for i in land:\n",
    "        array.extend(i)\n",
    "    mininum = min(array)\n",
    "    maximum = max(array)\n",
    "    r = [x for x in range(mininum,maximum+1)]\n",
    "    allsum = []\n",
    "    for a in r:\n",
    "        summary =0 \n",
    "        for b in array:\n",
    "            if a >= b:\n",
    "                summary += (a-b)*P\n",
    "            else:\n",
    "                summary += (b-a)*Q\n",
    "        allsum.append(summary)\n",
    "    answer = min(allsum)\n",
    "    return answer\n",
    "solution(land, P, Q)"
   ]
  }
 ],
 "metadata": {
  "kernelspec": {
   "display_name": "Python 3",
   "language": "python",
   "name": "python3"
  },
  "language_info": {
   "codemirror_mode": {
    "name": "ipython",
    "version": 3
   },
   "file_extension": ".py",
   "mimetype": "text/x-python",
   "name": "python",
   "nbconvert_exporter": "python",
   "pygments_lexer": "ipython3",
   "version": "3.6.5"
  }
 },
 "nbformat": 4,
 "nbformat_minor": 2
}
