{
 "cells": [
  {
   "cell_type": "markdown",
   "metadata": {},
   "source": [
    "# 1"
   ]
  },
  {
   "cell_type": "code",
   "execution_count": 16,
   "metadata": {},
   "outputs": [
    {
     "data": {
      "text/plain": [
       "[5, 6, 3]"
      ]
     },
     "execution_count": 16,
     "metadata": {},
     "output_type": "execute_result"
    }
   ],
   "source": [
    "array = [1, 5, 2, 6, 3, 7, 4]\n",
    "commands = [[2, 5, 3], [4, 4, 1], [1, 7, 3]]\n",
    "def solution(array, commands):\n",
    "    answer = []\n",
    "    for i in commands:\n",
    "        answer.append(sorted(array[i[0]-1:i[1]])[i[2]-1])\n",
    "    \n",
    "    return answer\n",
    "solution(array, commands)"
   ]
  },
  {
   "cell_type": "markdown",
   "metadata": {},
   "source": [
    "# 2  "
   ]
  },
  {
   "cell_type": "code",
   "execution_count": 39,
   "metadata": {},
   "outputs": [
    {
     "data": {
      "text/plain": [
       "'9534330'"
      ]
     },
     "execution_count": 39,
     "metadata": {},
     "output_type": "execute_result"
    }
   ],
   "source": [
    "import itertools\n",
    "numbers = [6, 10, 2]\n",
    "def solution(numbers):\n",
    "    answer = []\n",
    "    for i in itertools.permutations(numbers):\n",
    "        combination = ''\n",
    "        for j in i:\n",
    "            combination += str(j)\n",
    "        answer.append(combination)\n",
    "    return max(answer)\n",
    "solution(numbers)"
   ]
  },
  {
   "cell_type": "code",
   "execution_count": 103,
   "metadata": {},
   "outputs": [
    {
     "name": "stdout",
     "output_type": "stream",
     "text": [
      "['9', '5', '34', '3', '30']\n"
     ]
    },
    {
     "data": {
      "text/plain": [
       "'9534330'"
      ]
     },
     "execution_count": 103,
     "metadata": {},
     "output_type": "execute_result"
    }
   ],
   "source": [
    "\n",
    "numbers = [3, 30, 34, 5, 9]\n",
    "def solution(numbers):\n",
    "    numbers = list(map(str, numbers))\n",
    "    def sorting(n1, n2):\n",
    "#         print(int(n2 + n1) - int(n1 + n2))\n",
    "        return  int(n2 + n1) - int(n1 + n2)\n",
    "    from functools import cmp_to_key\n",
    "    numbers.sort(key=cmp_to_key(sorting))\n",
    "    print(numbers)\n",
    "    return str(int(''.join(numbers)))\n",
    "solution(numbers)"
   ]
  },
  {
   "cell_type": "markdown",
   "metadata": {},
   "source": [
    "# 3"
   ]
  },
  {
   "cell_type": "code",
   "execution_count": 30,
   "metadata": {
    "scrolled": false
   },
   "outputs": [
    {
     "name": "stdout",
     "output_type": "stream",
     "text": [
      "upcnt: 5, downcnt: 0, i: 0\n",
      "0\n",
      "upcnt: 4, downcnt: 1, i: 1\n",
      "1\n",
      "upcnt: 3, downcnt: 2, i: 2\n",
      "2\n",
      "upcnt: 3, downcnt: 2, i: 3\n",
      "3\n",
      "upcnt: 2, downcnt: 3, i: 4\n"
     ]
    },
    {
     "data": {
      "text/plain": [
       "3"
      ]
     },
     "execution_count": 30,
     "metadata": {},
     "output_type": "execute_result"
    }
   ],
   "source": [
    "citations =[3, 0, 6, 1, 5]\n",
    "def solution(citations):\n",
    "    \n",
    "    for i in range(len(citations)):\n",
    "        array =[]\n",
    "\n",
    "        upcnt =0\n",
    "        downcnt =0\n",
    "        for j in citations:\n",
    "            if j>=i:\n",
    "                upcnt +=1\n",
    "            else:\n",
    "                downcnt +=1\n",
    "        print(\"upcnt: %d, downcnt: %d, i: %d\" %(upcnt,downcnt,i))\n",
    "        if (upcnt) >=i and (downcnt <=i):\n",
    "            print(i)\n",
    "            value = i\n",
    "\n",
    "    \n",
    "  \n",
    "\n",
    "\n",
    "    return value\n",
    "solution(citations)"
   ]
  },
  {
   "cell_type": "code",
   "execution_count": 34,
   "metadata": {
    "scrolled": true
   },
   "outputs": [
    {
     "name": "stdout",
     "output_type": "stream",
     "text": [
      "upcnt: 5, downcnt: 0, i: 0\n",
      "0\n",
      "upcnt: 4, downcnt: 1, i: 1\n",
      "1\n",
      "upcnt: 3, downcnt: 2, i: 2\n",
      "2\n",
      "upcnt: 3, downcnt: 2, i: 3\n",
      "3\n",
      "upcnt: 2, downcnt: 3, i: 4\n"
     ]
    },
    {
     "data": {
      "text/plain": [
       "3"
      ]
     },
     "execution_count": 34,
     "metadata": {},
     "output_type": "execute_result"
    }
   ],
   "source": [
    "citations =[3, 0, 6, 1, 5]\n",
    "def solution(citations):\n",
    "    array =[]\n",
    "    for i in range(len(citations)):\n",
    "        \n",
    "\n",
    "        upcnt =0\n",
    "        downcnt =0\n",
    "        for j in citations:\n",
    "            if j>=i:\n",
    "                upcnt +=1\n",
    "            else:\n",
    "                downcnt +=1\n",
    "        print(\"upcnt: %d, downcnt: %d, i: %d\" %(upcnt,downcnt,i))\n",
    "        if upcnt >=i and downcnt <=i:\n",
    "            print(i)\n",
    "            array.append(i)\n",
    "\n",
    "    \n",
    "\n",
    "\n",
    "\n",
    "    return max(array)\n",
    "solution(citations)"
   ]
  }
 ],
 "metadata": {
  "kernelspec": {
   "display_name": "Python 3",
   "language": "python",
   "name": "python3"
  },
  "language_info": {
   "codemirror_mode": {
    "name": "ipython",
    "version": 3
   },
   "file_extension": ".py",
   "mimetype": "text/x-python",
   "name": "python",
   "nbconvert_exporter": "python",
   "pygments_lexer": "ipython3",
   "version": "3.6.5"
  }
 },
 "nbformat": 4,
 "nbformat_minor": 2
}
