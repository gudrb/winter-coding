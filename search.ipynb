{
 "cells": [
  {
   "cell_type": "markdown",
   "metadata": {},
   "source": [
    "# 1"
   ]
  },
  {
   "cell_type": "code",
   "execution_count": 6,
   "metadata": {},
   "outputs": [
    {
     "data": {
      "text/plain": [
       "[1, 2, 3]"
      ]
     },
     "execution_count": 6,
     "metadata": {},
     "output_type": "execute_result"
    }
   ],
   "source": [
    "answers = [1,3,2,4,2]\n",
    "def solution(answers):\n",
    "    answer = []\n",
    "    math1=[]\n",
    "    math2=[]\n",
    "    answer2 = [2,1,2,3,2,4,2,5]\n",
    "    answer3 = [3,3,1,1,2,2,4,4,5,5]\n",
    "    math3=[]\n",
    "    for i in range(len(answers)):\n",
    "        math1.append(i%5+1)\n",
    "        math2.append(answer2[i%8])\n",
    "        math3.append(answer3[i%10])\n",
    "    cnt1 =0\n",
    "    cnt2 =0 \n",
    "    cnt3 =0\n",
    "    for i in range(len(answers)):\n",
    "        if math1[i] == answers[i]:\n",
    "            cnt1 +=1\n",
    "        if math2[i] == answers[i]:\n",
    "            cnt2 +=1\n",
    "        if math3[i] == answers[i]:\n",
    "            cnt3 +=1\n",
    "    array =[]\n",
    "    array.append(cnt1)\n",
    "    array.append(cnt2)\n",
    "    array.append(cnt3)\n",
    "    for i,value in enumerate(array):\n",
    "        if value == max(array):\n",
    "            answer.append(i+1)\n",
    "    \n",
    "    \n",
    "    \n",
    "    return answer\n",
    "solution(answers)"
   ]
  },
  {
   "cell_type": "markdown",
   "metadata": {},
   "source": [
    "# 2"
   ]
  },
  {
   "cell_type": "code",
   "execution_count": 123,
   "metadata": {},
   "outputs": [
    {
     "data": {
      "text/plain": [
       "2"
      ]
     },
     "execution_count": 123,
     "metadata": {},
     "output_type": "execute_result"
    }
   ],
   "source": [
    "\n",
    "baseball = [[123, 1, 1], [356, 1, 0], [327, 2, 0], [489, 0, 1]]\n",
    "def makeall():\n",
    "    array=[]\n",
    "    for i in range(10):\n",
    "        miniarray=[]\n",
    "        miniarray.append(i)\n",
    "        for j in range(10):\n",
    "            miniarray.append(j)\n",
    "            for k in range(10):\n",
    "                miniarray.append(k)  \n",
    "\n",
    "                array.append(list(miniarray))\n",
    "                miniarray.pop()\n",
    "            miniarray.pop()\n",
    "        miniarray.pop()\n",
    "    return array\n",
    "\n",
    "def solution(baseball):\n",
    "    array =makeall()\n",
    "    for i in baseball:\n",
    "        number = list(str(i[0]))\n",
    "        intnum = [int(x) for x in number]\n",
    "        for j in reversed(array):\n",
    "            cnt =0\n",
    "            for index in range(3):\n",
    "                if j[index] == intnum[index]:\n",
    "                    cnt += 1\n",
    "            c = Counter(j)\n",
    "            d = Counter(j)-Counter(intnum)\n",
    "            if len( list((c-d).elements() )) != (i[2]+i[1]) or cnt != i[1]:\n",
    "                array.remove(j)\n",
    "            \n",
    "    return len(array)    \n",
    "solution(baseball)"
   ]
  },
  {
   "cell_type": "markdown",
   "metadata": {},
   "source": [
    "# 3"
   ]
  },
  {
   "cell_type": "code",
   "execution_count": 166,
   "metadata": {},
   "outputs": [
    {
     "name": "stdout",
     "output_type": "stream",
     "text": [
      "()\n",
      "('1',)\n",
      "('7',)\n",
      "('1', '7')\n",
      "('7', '1')\n"
     ]
    }
   ],
   "source": [
    "num = \"17\"\n",
    "for h in range(len(nums)+1):\n",
    "    for i in itertools.permutations(nums,h):\n",
    "        print(i)"
   ]
  },
  {
   "cell_type": "code",
   "execution_count": 189,
   "metadata": {},
   "outputs": [
    {
     "name": "stdout",
     "output_type": "stream",
     "text": [
      "[101, 11]\n"
     ]
    },
    {
     "data": {
      "text/plain": [
       "2"
      ]
     },
     "execution_count": 189,
     "metadata": {},
     "output_type": "execute_result"
    }
   ],
   "source": [
    "import itertools\n",
    "from collections import Counter\n",
    "numbers = \"011\"\n",
    "def solution(numbers):\n",
    "    nums = list(numbers)\n",
    "    array =[]\n",
    "    numarray =[]\n",
    "    answer =[]\n",
    "    for h in range(len(numbers)+1):\n",
    "        for i in itertools.permutations(nums,h):\n",
    "            array.append(list(i))\n",
    "    del array[0]\n",
    "    for l in array:\n",
    "        number = ''\n",
    "        for i in l:\n",
    "            number += i\n",
    "        numarray.append(number)\n",
    "    numarray = [int(k) for k in numarray]\n",
    "    prime = list(set(numarray))\n",
    "    for i in prime:\n",
    "        cnt =0\n",
    "        for x in range(2,i):\n",
    "             if i % x == 0:\n",
    "                    cnt +=1\n",
    "        if cnt == 0:        \n",
    "            answer.append(i)\n",
    "    answer = list((Counter(answer) - Counter([0,1])).elements())\n",
    "    print(answer)\n",
    "    return len(answer)\n",
    "solution(numbers)"
   ]
  },
  {
   "cell_type": "markdown",
   "metadata": {},
   "source": [
    "# 4"
   ]
  },
  {
   "cell_type": "code",
   "execution_count": 204,
   "metadata": {},
   "outputs": [
    {
     "name": "stdout",
     "output_type": "stream",
     "text": [
      "i:4 voice/i: 4\n"
     ]
    },
    {
     "data": {
      "text/plain": [
       "[4, 4]"
      ]
     },
     "execution_count": 204,
     "metadata": {},
     "output_type": "execute_result"
    }
   ],
   "source": [
    "brown = 12\n",
    "red = 4\n",
    "def solution(brown, red):\n",
    "    voice = brown+red\n",
    "    for i in range(3,voice):\n",
    "      \n",
    "#         print(\"i:%d voice/i: %d\" %(i,voice%i))\n",
    "        if voice%i ==0 and i<= (voice/i):\n",
    "            print(\"i:%d voice/i: %d\" %(i,voice/i))\n",
    "            max =i\n",
    "     \n",
    "    answer = max\n",
    "    \n",
    "    return [int(voice/answer),answer]\n",
    "solution(brown, red)"
   ]
  }
 ],
 "metadata": {
  "kernelspec": {
   "display_name": "Python 3",
   "language": "python",
   "name": "python3"
  },
  "language_info": {
   "codemirror_mode": {
    "name": "ipython",
    "version": 3
   },
   "file_extension": ".py",
   "mimetype": "text/x-python",
   "name": "python",
   "nbconvert_exporter": "python",
   "pygments_lexer": "ipython3",
   "version": "3.6.5"
  }
 },
 "nbformat": 4,
 "nbformat_minor": 2
}
