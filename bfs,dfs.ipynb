{
 "cells": [
  {
   "cell_type": "markdown",
   "metadata": {},
   "source": [
    "# 1"
   ]
  },
  {
   "cell_type": "code",
   "execution_count": 114,
   "metadata": {},
   "outputs": [
    {
     "name": "stdout",
     "output_type": "stream",
     "text": [
      "True\n",
      "False\n",
      "True\n"
     ]
    }
   ],
   "source": [
    "class Node:\n",
    "    def __init__(self, data):\n",
    "        self.data = data\n",
    "        self.left = self.right = None\n",
    "class BinarySearchTree:\n",
    "    def __init__(self):\n",
    "        self.root = None\n",
    "        \n",
    "    def insert(self,data):\n",
    "        self.root = self._insert_value(self.root,data)\n",
    "        return self.root is not None\n",
    "    \n",
    "    def _insert_value(self, node, data):\n",
    "        if node is None:\n",
    "            node = Node(data)\n",
    "        else:\n",
    "            if data <= node.data:\n",
    "                node.left = self._insert_value(node.left,data)\n",
    "            else:\n",
    "                node.right = self._insert_value(node.right,data)\n",
    "        return node\n",
    "\n",
    "    def find(self, key):\n",
    "        return self._find_value(self.root,key)\n",
    "    \n",
    "    def _find_value(self, root, key):\n",
    "        if root is None or root.data == key:\n",
    "            return root is not None\n",
    "        elif key < root.data:\n",
    "            return self._find_value(root.left,key)\n",
    "        else:\n",
    "            return self._find_value(root.right,key)\n",
    "array = [40, 4, 34, 45, 14, 55, 48, 13, 15, 49, 47]\n",
    "\n",
    "bst = BinarySearchTree()\n",
    "for x in array:\n",
    "    bst.insert(x)\n",
    "\n",
    "# Find\n",
    "print(bst.find(15)) # True\n",
    "print(bst.find(17)) # False\n",
    "print(bst.find(13))\n"
   ]
  },
  {
   "cell_type": "code",
   "execution_count": 84,
   "metadata": {},
   "outputs": [
    {
     "name": "stdout",
     "output_type": "stream",
     "text": [
      "[4, 0, 2, -2, 2, -2, 0, -4]\n"
     ]
    },
    {
     "data": {
      "text/plain": [
       "0"
      ]
     },
     "execution_count": 84,
     "metadata": {},
     "output_type": "execute_result"
    }
   ],
   "source": [
    "from collections import Counter\n",
    "numbers =[1,1,2]\n",
    "\n",
    "def solution(numbers, target):\n",
    "    stack = []\n",
    "    array=[0]\n",
    "    for k in numbers:\n",
    "        while array:\n",
    "            stack.append(array.pop())\n",
    "\n",
    "        for i in reversed(stack):\n",
    "            \n",
    "            array.append(i+k)\n",
    "            array.append(i-k)\n",
    "            stack.remove(i)\n",
    "    print(array)\n",
    "    return Counter(array)[target]\n",
    "\n",
    "solution(numbers,-1)     "
   ]
  },
  {
   "cell_type": "code",
   "execution_count": 83,
   "metadata": {},
   "outputs": [
    {
     "name": "stdout",
     "output_type": "stream",
     "text": [
      "3.0\n"
     ]
    },
    {
     "data": {
      "text/plain": [
       "3"
      ]
     },
     "execution_count": 83,
     "metadata": {},
     "output_type": "execute_result"
    }
   ],
   "source": [
    "\n",
    "numbers =[1,1,1]\n",
    "target =1\n",
    "def solution(numbers,target):\n",
    "    n =(len(numbers)-target)/2\n",
    "    c = len(numbers)-n +1\n",
    "    num1 =1\n",
    "    num2 =1\n",
    "    for i in range(int(n)):\n",
    "        num1 *= c\n",
    "        print(num1)\n",
    "        c -= 1\n",
    "\n",
    "    for j in reversed(range(int(n))):\n",
    "        num2 *= j+1\n",
    "\n",
    "    return int(num1/num2)\n",
    "solution(numbers,target)"
   ]
  },
  {
   "cell_type": "markdown",
   "metadata": {},
   "source": [
    "# 2"
   ]
  },
  {
   "cell_type": "code",
   "execution_count": 87,
   "metadata": {},
   "outputs": [
    {
     "data": {
      "text/plain": [
       "2"
      ]
     },
     "execution_count": 87,
     "metadata": {},
     "output_type": "execute_result"
    }
   ],
   "source": [
    "computers =[[1, 1, 0], [1, 1, 1], [0, 1, 1]]\n",
    "def solution(n, computers):\n",
    "    def BFS(node,visit):\n",
    "        que = [node]\n",
    "        visit[node] = 1\n",
    "        while que:\n",
    "            v = que.pop(0)\n",
    "            for i in range(n):\n",
    "                if computers[v][i] == 1 and visit[i] == 0:\n",
    "                    visit[i] = 1\n",
    "                    que.append(i)\n",
    "        return visit\n",
    "    visit = [0 for i in range(n)]\n",
    "    answer =0\n",
    "    for i in range(n):\n",
    "        try:\n",
    "            visit = BFS(visit.index(0),visit)\n",
    "            answer += 1\n",
    "        except:\n",
    "            break\n",
    "    return answer"
   ]
  },
  {
   "cell_type": "code",
   "execution_count": 109,
   "metadata": {},
   "outputs": [
    {
     "data": {
      "text/plain": [
       "1"
      ]
     },
     "execution_count": 109,
     "metadata": {},
     "output_type": "execute_result"
    }
   ],
   "source": [
    "computers =[[1, 1, 0], [1, 1, 1], [0, 1, 1]]\n",
    "n =3\n",
    "def solution(n, computers):\n",
    "    stack = []\n",
    "    visited = [0 for x in range(n)]\n",
    "    def BFS(v,visited):\n",
    "        queue = v\n",
    "        for i in range(n):\n",
    "            if computers[v][i] == 1 and visited[i] ==0:\n",
    "                stack.append(i)\n",
    "        visited[v] = 1\n",
    "        return visited\n",
    "    cnt =0\n",
    "    while sum(visited) < n:\n",
    "        stack.append(visited.index(0))\n",
    "        while stack:\n",
    "            v = stack.pop()\n",
    "            visited = BFS(v,visited)\n",
    "        cnt += 1\n",
    "        answer = cnt\n",
    "    return answer\n",
    "solution(n, computers)"
   ]
  },
  {
   "cell_type": "code",
   "execution_count": 108,
   "metadata": {},
   "outputs": [],
   "source": [
    "visited = [0 for x in range(3)]\n",
    "v = visited.index(0)\n",
    "while v:\n",
    "    print(v)\n",
    "    v = visited.index(0)\n",
    "    visited[v] =1"
   ]
  },
  {
   "cell_type": "markdown",
   "metadata": {},
   "source": [
    "# 3"
   ]
  },
  {
   "cell_type": "code",
   "execution_count": 144,
   "metadata": {},
   "outputs": [
    {
     "name": "stdout",
     "output_type": "stream",
     "text": [
      "None\n",
      "None\n",
      "None\n",
      "None\n",
      "None\n",
      "None\n",
      "None\n",
      "None\n",
      "None\n",
      "None\n",
      "None\n",
      "None\n",
      "None\n",
      "None\n",
      "None\n",
      "None\n",
      "None\n",
      "None\n",
      "None\n",
      "None\n",
      "None\n",
      "None\n",
      "None\n"
     ]
    },
    {
     "data": {
      "text/plain": [
       "4"
      ]
     },
     "execution_count": 144,
     "metadata": {},
     "output_type": "execute_result"
    }
   ],
   "source": [
    "begin = \"hit\"\n",
    "target =\"cog\"\n",
    "words = ['hot', 'dot', 'dog', 'lot', 'log', 'cog']\n",
    "def change(fr, to):\n",
    "    for i in range(len(fr)):\n",
    "        if fr[:i]+fr[i+1:] == to[:i]+to[i+1:]:\n",
    "            return True\n",
    "    return False\n",
    "\n",
    "def permutation(begin, target, words, cnt):\n",
    "    global answer\n",
    "    if begin == target:\n",
    "        answer = cnt\n",
    "    else:\n",
    "        for i in range(len(words)):\n",
    "            if change(begin, words[i]):\n",
    "                permutation(words[i], target, words[:i]+words[i+1:], cnt+1)\n",
    "\n",
    "def solution(begin, target, words):\n",
    "    if target not in words:\n",
    "        return 0\n",
    "    permutation(begin, target, words, 0)\n",
    "    return answer\n",
    "solution(begin, target, words)"
   ]
  },
  {
   "cell_type": "code",
   "execution_count": 140,
   "metadata": {},
   "outputs": [
    {
     "data": {
      "text/plain": [
       "3"
      ]
     },
     "execution_count": 140,
     "metadata": {},
     "output_type": "execute_result"
    }
   ],
   "source": []
  }
 ],
 "metadata": {
  "kernelspec": {
   "display_name": "Python 3",
   "language": "python",
   "name": "python3"
  },
  "language_info": {
   "codemirror_mode": {
    "name": "ipython",
    "version": 3
   },
   "file_extension": ".py",
   "mimetype": "text/x-python",
   "name": "python",
   "nbconvert_exporter": "python",
   "pygments_lexer": "ipython3",
   "version": "3.6.5"
  }
 },
 "nbformat": 4,
 "nbformat_minor": 2
}
