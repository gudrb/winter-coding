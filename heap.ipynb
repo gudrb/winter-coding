{
 "cells": [
  {
   "cell_type": "markdown",
   "metadata": {},
   "source": [
    "# 1"
   ]
  },
  {
   "cell_type": "code",
   "execution_count": 33,
   "metadata": {},
   "outputs": [
    {
     "data": {
      "text/plain": [
       "5"
      ]
     },
     "execution_count": 33,
     "metadata": {},
     "output_type": "execute_result"
    }
   ],
   "source": [
    "scoville = [1,2,3, 9, 10, 12]\n",
    "K = 110\n",
    "# def check(scoville,K):\n",
    "#     cnt =0\n",
    "#     for i in scoville:\n",
    "# #         print(\"i: %d,K: %d\" %(i,K))\n",
    "#         if i >= K:\n",
    "#             cnt += 1\n",
    "#     if cnt == len(scoville):\n",
    "#         return False\n",
    "#     return True\n",
    "# def findmin(scoville):\n",
    "\n",
    "#     firstmin = min(scoville)\n",
    "#     del scoville[scoville.index(firstmin)]\n",
    "    \n",
    "#     secondmin = min(scoville)\n",
    "#     del scoville[scoville.index(secondmin)]\n",
    "#     print(\" %d, %d\" %(firstmin,secondmin))\n",
    "#     return [firstmin,secondmin]\n",
    "def solution(scoville, K):\n",
    "    mixcnt =0\n",
    "    while (min(scoville)<K) and len(scoville)>1:\n",
    "#         m1,m2 = findmin(scoville)\n",
    "        m1=scoville.pop(scoville.index(min(scoville)))\n",
    "        m2=scoville.pop(scoville.index(min(scoville)))\n",
    "#         print(\"m1: %d, m2: %d\" %(m1,m2))\n",
    "        scoville.append(m1+m2*2)\n",
    "        mixcnt += 1\n",
    "    answer = mixcnt\n",
    "    return answer\n",
    "solution(scoville,K)"
   ]
  },
  {
   "cell_type": "markdown",
   "metadata": {},
   "source": [
    "# 2"
   ]
  },
  {
   "cell_type": "code",
   "execution_count": 45,
   "metadata": {},
   "outputs": [
    {
     "data": {
      "text/plain": [
       "2"
      ]
     },
     "execution_count": 45,
     "metadata": {},
     "output_type": "execute_result"
    }
   ],
   "source": [
    "stock =4\n",
    "dates = [4,10,15]\n",
    "supplies = [20,5,10]\n",
    "k = 30\n",
    "# def solution(stock, dates, supplies, k):\n",
    "#     cnt =0\n",
    "#     while stock < (k-1):\n",
    "#         stock += max(supplies)\n",
    "#         del dates[supplies.index(max(supplies))]\n",
    "#         del supplies[supplies.index(max(supplies))]\n",
    "#         cnt += 1\n",
    "#     return cnt\n",
    "def findmax(dates,supplies,today):\n",
    "    maxsup = 0\n",
    "    for i in range(len(dates)):\n",
    "        if dates[i]<=today and maxsup<supplies[i]:\n",
    "            maxsup = supplies[i]\n",
    "    return supplies.index(maxsup)    \n",
    "def solution(stock, dates, supplies, k):\n",
    "    cnt =0\n",
    "    for i in range(k):\n",
    "        if stock == 0:\n",
    "            index=findmax(dates,supplies,i)\n",
    "            stock += supplies[index]\n",
    "            del supplies[index]\n",
    "            del dates[index]\n",
    "            cnt +=1\n",
    "        stock -= 1\n",
    "    return cnt       \n",
    "solution(stock, dates, supplies, k)"
   ]
  }
 ],
 "metadata": {
  "kernelspec": {
   "display_name": "Python 3",
   "language": "python",
   "name": "python3"
  },
  "language_info": {
   "codemirror_mode": {
    "name": "ipython",
    "version": 3
   },
   "file_extension": ".py",
   "mimetype": "text/x-python",
   "name": "python",
   "nbconvert_exporter": "python",
   "pygments_lexer": "ipython3",
   "version": "3.6.5"
  }
 },
 "nbformat": 4,
 "nbformat_minor": 2
}
