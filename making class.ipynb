{
 "cells": [
  {
   "cell_type": "code",
   "execution_count": null,
   "metadata": {},
   "outputs": [],
   "source": [
    "class Human():\n",
    "    '''사람'''\n",
    "person1 = Human()\n",
    "person2 = Human()"
   ]
  },
  {
   "cell_type": "code",
   "execution_count": 10,
   "metadata": {},
   "outputs": [
    {
     "name": "stdout",
     "output_type": "stream",
     "text": [
      "한국어\n",
      "English\n",
      "서울시민이 한국어로 말을 합니다.\n",
      "서울시민이 English로 말을 합니다.\n"
     ]
    }
   ],
   "source": [
    "person1.language = '한국어'\n",
    "person2.language = 'English'\n",
    "\n",
    "print(person1.language)\n",
    "print(person2.language)\n",
    "\n",
    "person1.name = '서울시민'\n",
    "person2.name = '인도인'\n",
    "\n",
    "\n",
    "def speak(person):\n",
    "    print(\"{}이 {}로 말을 합니다.\".format(person1.name,person.language))\n",
    "speak(person1)\n",
    "speak(person2)"
   ]
  },
  {
   "cell_type": "code",
   "execution_count": 11,
   "metadata": {},
   "outputs": [
    {
     "name": "stdout",
     "output_type": "stream",
     "text": [
      "서울시민이 한국어로 말을 합니다.\n",
      "서울시민이 English로 말을 합니다.\n"
     ]
    }
   ],
   "source": [
    "Human.speak = speak\n",
    "person1.speak()\n",
    "person2.speak()"
   ]
  },
  {
   "cell_type": "code",
   "execution_count": 16,
   "metadata": {},
   "outputs": [
    {
     "name": "stdout",
     "output_type": "stream",
     "text": [
      "철수가 걸어서 60.4kg이 되었습니다.\n",
      "철수가 먹어서 60.5kg이 되었습니다.\n",
      "철수가 걸어서 60.4kg이 되었습니다.\n",
      "철수가 걸어서 60.3kg이 되었습니다.\n"
     ]
    }
   ],
   "source": [
    "def create_human(name, weight):\n",
    "    person = Human()\n",
    "    person.name = name\n",
    "    person.weight = weight\n",
    "    return person\n",
    "Human.create = create_human\n",
    "\n",
    "def eat(person):\n",
    "    person.weight += 0.1\n",
    "    print(\"{}가 먹어서 {}kg이 되었습니다.\".format(person.name, person.weight))\n",
    "\n",
    "def walk(person):\n",
    "    person.weight -= 0.1\n",
    "    print(\"{}가 걸어서 {}kg이 되었습니다.\".format(person.name, person.weight))\n",
    "Human.eat = eat\n",
    "Human.walk = walk\n",
    "\n",
    "person = Human.create('철수',60.5)\n",
    "person.walk()\n",
    "person.eat()\n",
    "person.walk()\n",
    "person.walk()"
   ]
  },
  {
   "cell_type": "code",
   "execution_count": 20,
   "metadata": {},
   "outputs": [
    {
     "name": "stdout",
     "output_type": "stream",
     "text": [
      "안녕하세요\n"
     ]
    }
   ],
   "source": [
    "class Human():\n",
    "    '''사람'''\n",
    "    def create_human(name, weight):\n",
    "        person = Human()\n",
    "        person.name = name\n",
    "        person.weight = weight\n",
    "        return person\n",
    "    \n",
    "    def eat(self):\n",
    "        self.weight += 0.1\n",
    "        print(\"{}가 먹어서 {}kg이 되었습니다.\".format(self.name, self.weight))\n",
    "    \n",
    "    def walk(self):\n",
    "        self.weight -= 0.1\n",
    "        print(\"{}가 걸어서 {}kg이 되었습니다.\".format(self.name, self.weight))\n",
    "    \n",
    "    def speak(self,message): # self 가 person 이다\n",
    "        print(message)\n",
    "person = Human.create_human('철수',60.5)\n",
    "person.speak(\"안녕하세요\")"
   ]
  },
  {
   "cell_type": "markdown",
   "metadata": {},
   "source": [
    "특수한 함수"
   ]
  },
  {
   "cell_type": "code",
   "execution_count": 4,
   "metadata": {},
   "outputs": [
    {
     "name": "stdout",
     "output_type": "stream",
     "text": [
      "__init__실행\n",
      "사람(몸무게 60.5kg)\n"
     ]
    }
   ],
   "source": [
    "class Human():\n",
    "    '''인간'''\n",
    "    def __init__(self, name, weight):\n",
    "        '''초기화 함수'''\n",
    "        print(\"__init__실행\")\n",
    "        self.name = name\n",
    "        self.weight = weight\n",
    "\n",
    "    def __str__(self): # human을 출력할 때 어떻게 출력되는지\n",
    "        '''문자열 함수'''\n",
    "        return \"{}(몸무게 {}kg)\".format(self.name,self.weight)\n",
    "person = Human(\"사람\",60.5)\n",
    "print(person)"
   ]
  }
 ],
 "metadata": {
  "kernelspec": {
   "display_name": "Python 3",
   "language": "python",
   "name": "python3"
  },
  "language_info": {
   "codemirror_mode": {
    "name": "ipython",
    "version": 3
   },
   "file_extension": ".py",
   "mimetype": "text/x-python",
   "name": "python",
   "nbconvert_exporter": "python",
   "pygments_lexer": "ipython3",
   "version": "3.6.5"
  }
 },
 "nbformat": 4,
 "nbformat_minor": 2
}
