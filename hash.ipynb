{
 "cells": [
  {
   "cell_type": "markdown",
   "metadata": {},
   "source": [
    "# 1"
   ]
  },
  {
   "cell_type": "markdown",
   "metadata": {},
   "source": [
    "from collections import Counter\n",
    "def solution(participant, completion):\n",
    "\n",
    "    inter = list((Counter(participant) - Counter(completion)).elements())\n",
    "\n",
    "    return inter.pop()"
   ]
  },
  {
   "cell_type": "markdown",
   "metadata": {},
   "source": [
    "# 2"
   ]
  },
  {
   "cell_type": "code",
   "execution_count": 53,
   "metadata": {},
   "outputs": [
    {
     "data": {
      "text/plain": [
       "True"
      ]
     },
     "execution_count": 53,
     "metadata": {},
     "output_type": "execute_result"
    }
   ],
   "source": [
    "import re\n",
    "phone_book = [\"119\",\"97674223\",\"5524421\"]\n",
    "phone_book=sorted(phone_book,key=len)\n",
    "def solution(phone_book):\n",
    "    for i in phone_book:\n",
    "        phone_book.remove(i)\n",
    "        for j in phone_book:\n",
    "            if re.match(i,j):\n",
    "                return False\n",
    "    return True\n",
    "solution(phone_book)"
   ]
  }
 ],
 "metadata": {
  "kernelspec": {
   "display_name": "Python 3",
   "language": "python",
   "name": "python3"
  },
  "language_info": {
   "codemirror_mode": {
    "name": "ipython",
    "version": 3
   },
   "file_extension": ".py",
   "mimetype": "text/x-python",
   "name": "python",
   "nbconvert_exporter": "python",
   "pygments_lexer": "ipython3",
   "version": "3.6.5"
  }
 },
 "nbformat": 4,
 "nbformat_minor": 2
}
