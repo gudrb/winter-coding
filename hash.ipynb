{
 "cells": [
  {
   "cell_type": "markdown",
   "metadata": {},
   "source": [
    "# 1"
   ]
  },
  {
   "cell_type": "code",
   "execution_count": 343,
   "metadata": {},
   "outputs": [],
   "source": [
    "participant = list([\"marina\", \"josipa\", \"nikola\", \"vinko\", \"filipa\"])\n",
    "completion = list([\"marina\", \"josipa\", \"nikola\", \"filipa\"])"
   ]
  },
  {
   "cell_type": "code",
   "execution_count": 351,
   "metadata": {},
   "outputs": [
    {
     "name": "stdout",
     "output_type": "stream",
     "text": [
      "vinko\n"
     ]
    }
   ],
   "source": [
    "from collections import Counter\n",
    "answer = \"\"\n",
    "answer = list(Counter(participant)-Counter(completion))\n",
    "print(answer[0])"
   ]
  },
  {
   "cell_type": "code",
   "execution_count": 357,
   "metadata": {},
   "outputs": [
    {
     "data": {
      "text/plain": [
       "['vinko']"
      ]
     },
     "execution_count": 357,
     "metadata": {},
     "output_type": "execute_result"
    }
   ],
   "source": [
    "list((Counter(participant) - Counter(completion)).elements())"
   ]
  },
  {
   "cell_type": "code",
   "execution_count": 73,
   "metadata": {},
   "outputs": [],
   "source": [
    "from collections import Counter\n",
    "inter=list(Counter(participant) - Counter(completion))"
   ]
  },
  {
   "cell_type": "code",
   "execution_count": 75,
   "metadata": {},
   "outputs": [
    {
     "data": {
      "text/plain": [
       "'vinko'"
      ]
     },
     "execution_count": 75,
     "metadata": {},
     "output_type": "execute_result"
    }
   ],
   "source": [
    "inter.pop()"
   ]
  },
  {
   "cell_type": "code",
   "execution_count": 361,
   "metadata": {},
   "outputs": [],
   "source": [
    "from collections import Counter\n",
    "def solution(participant, completion):\n",
    "\n",
    "    inter = list((Counter(participant) - Counter(completion)).elements())\n",
    "\n",
    "#     return inter.pop()\n",
    "    return inter[0]"
   ]
  },
  {
   "cell_type": "code",
   "execution_count": 360,
   "metadata": {},
   "outputs": [
    {
     "data": {
      "text/plain": [
       "'vinko'"
      ]
     },
     "execution_count": 360,
     "metadata": {},
     "output_type": "execute_result"
    }
   ],
   "source": [
    "solution(participant,completion)"
   ]
  },
  {
   "cell_type": "markdown",
   "metadata": {},
   "source": [
    "# 2"
   ]
  },
  {
   "cell_type": "code",
   "execution_count": 369,
   "metadata": {},
   "outputs": [],
   "source": [
    "import re\n",
    "phone_book = [\"119\",\"97674223\",\"5524421\"]\n",
    "\n",
    "phone_book=sorted(phone_book,key=len)"
   ]
  },
  {
   "cell_type": "code",
   "execution_count": 371,
   "metadata": {},
   "outputs": [
    {
     "data": {
      "text/plain": [
       "True"
      ]
     },
     "execution_count": 371,
     "metadata": {},
     "output_type": "execute_result"
    }
   ],
   "source": []
  },
  {
   "cell_type": "code",
   "execution_count": 378,
   "metadata": {},
   "outputs": [
    {
     "data": {
      "text/plain": [
       "False"
      ]
     },
     "execution_count": 378,
     "metadata": {},
     "output_type": "execute_result"
    }
   ],
   "source": [
    "import re\n",
    "phone_book = [\"119\",\"97674223\",\"1195524421\"]\n",
    "phone_book=sorted(phone_book,key=len)\n",
    "def solution(phone_book):\n",
    "    index =0\n",
    "    for i in phone_book:\n",
    "        index+=1\n",
    "        phone_book = phone_book[index:]\n",
    "        for j in phone_book:\n",
    "            if re.match(i,j):\n",
    "                return False\n",
    "    return True \n",
    "solution(phone_book)"
   ]
  },
  {
   "cell_type": "code",
   "execution_count": 372,
   "metadata": {},
   "outputs": [
    {
     "data": {
      "text/plain": [
       "True"
      ]
     },
     "execution_count": 372,
     "metadata": {},
     "output_type": "execute_result"
    }
   ],
   "source": [
    "def solution(phone_book):\n",
    "    for i in phone_book:\n",
    "        phone_book.remove(i)\n",
    "        for j in phone_book:\n",
    "            if re.match(i,j):\n",
    "                return False\n",
    "    return True\n",
    "solution(phone_book)"
   ]
  },
  {
   "cell_type": "markdown",
   "metadata": {},
   "source": [
    "# 3"
   ]
  },
  {
   "cell_type": "code",
   "execution_count": 393,
   "metadata": {
    "scrolled": true
   },
   "outputs": [
    {
     "ename": "KeyError",
     "evalue": "'headgear'",
     "output_type": "error",
     "traceback": [
      "\u001b[1;31m---------------------------------------------------------------------------\u001b[0m",
      "\u001b[1;31mKeyError\u001b[0m                                  Traceback (most recent call last)",
      "\u001b[1;32m<ipython-input-393-0a3d26cfc6c4>\u001b[0m in \u001b[0;36m<module>\u001b[1;34m()\u001b[0m\n\u001b[0;32m     16\u001b[0m \u001b[1;33m\u001b[0m\u001b[0m\n\u001b[0;32m     17\u001b[0m     \u001b[1;32mreturn\u001b[0m \u001b[0mnum\u001b[0m\u001b[1;33m-\u001b[0m\u001b[1;36m1\u001b[0m\u001b[1;33m\u001b[0m\u001b[0m\n\u001b[1;32m---> 18\u001b[1;33m \u001b[0msolution\u001b[0m\u001b[1;33m(\u001b[0m\u001b[0mclothes\u001b[0m\u001b[1;33m)\u001b[0m\u001b[1;33m\u001b[0m\u001b[0m\n\u001b[0m",
      "\u001b[1;32m<ipython-input-393-0a3d26cfc6c4>\u001b[0m in \u001b[0;36msolution\u001b[1;34m(clothes)\u001b[0m\n\u001b[0;32m     10\u001b[0m     \u001b[1;32mreturn\u001b[0m \u001b[0mdic\u001b[0m\u001b[1;33m\u001b[0m\u001b[0m\n\u001b[0;32m     11\u001b[0m \u001b[1;32mdef\u001b[0m \u001b[0msolution\u001b[0m\u001b[1;33m(\u001b[0m\u001b[0mclothes\u001b[0m\u001b[1;33m)\u001b[0m\u001b[1;33m:\u001b[0m\u001b[1;33m\u001b[0m\u001b[0m\n\u001b[1;32m---> 12\u001b[1;33m     \u001b[0mdic\u001b[0m \u001b[1;33m=\u001b[0m \u001b[0mmakedic\u001b[0m\u001b[1;33m(\u001b[0m\u001b[0mclothes\u001b[0m\u001b[1;33m)\u001b[0m\u001b[1;33m\u001b[0m\u001b[0m\n\u001b[0m\u001b[0;32m     13\u001b[0m     \u001b[0mnum\u001b[0m \u001b[1;33m=\u001b[0m\u001b[1;36m1\u001b[0m\u001b[1;33m\u001b[0m\u001b[0m\n\u001b[0;32m     14\u001b[0m     \u001b[1;32mfor\u001b[0m \u001b[0mkey\u001b[0m \u001b[1;32min\u001b[0m \u001b[0mdic\u001b[0m\u001b[1;33m.\u001b[0m\u001b[0mkeys\u001b[0m\u001b[1;33m(\u001b[0m\u001b[1;33m)\u001b[0m\u001b[1;33m:\u001b[0m\u001b[1;33m\u001b[0m\u001b[0m\n",
      "\u001b[1;32m<ipython-input-393-0a3d26cfc6c4>\u001b[0m in \u001b[0;36mmakedic\u001b[1;34m(clothes)\u001b[0m\n\u001b[0;32m      7\u001b[0m             \u001b[0mdic\u001b[0m\u001b[1;33m[\u001b[0m\u001b[0mkind\u001b[0m\u001b[1;33m]\u001b[0m \u001b[1;33m+=\u001b[0m \u001b[1;36m1\u001b[0m\u001b[1;33m\u001b[0m\u001b[0m\n\u001b[0;32m      8\u001b[0m         \u001b[1;32melse\u001b[0m\u001b[1;33m:\u001b[0m\u001b[1;33m\u001b[0m\u001b[0m\n\u001b[1;32m----> 9\u001b[1;33m             \u001b[0mdic\u001b[0m\u001b[1;33m[\u001b[0m\u001b[0mkind\u001b[0m\u001b[1;33m]\u001b[0m \u001b[1;33m==\u001b[0m \u001b[1;36m1\u001b[0m\u001b[1;33m\u001b[0m\u001b[0m\n\u001b[0m\u001b[0;32m     10\u001b[0m     \u001b[1;32mreturn\u001b[0m \u001b[0mdic\u001b[0m\u001b[1;33m\u001b[0m\u001b[0m\n\u001b[0;32m     11\u001b[0m \u001b[1;32mdef\u001b[0m \u001b[0msolution\u001b[0m\u001b[1;33m(\u001b[0m\u001b[0mclothes\u001b[0m\u001b[1;33m)\u001b[0m\u001b[1;33m:\u001b[0m\u001b[1;33m\u001b[0m\u001b[0m\n",
      "\u001b[1;31mKeyError\u001b[0m: 'headgear'"
     ]
    }
   ],
   "source": [
    "import numpy as np\n",
    "clothes =np.array([['yellow_hat', 'headgear'], ['blue_sunglasses', 'eyewear'], ['green_turban', 'headgear']])\n",
    "def makedic(clothes):\n",
    "    dic = {}\n",
    "    for name,kind in clothes:\n",
    "        if kind in dic.keys():\n",
    "            dic[kind] += 1\n",
    "        else:\n",
    "            dic[kind] = 1\n",
    "    return dic\n",
    "def solution(clothes):\n",
    "    dic = makedic(clothes)\n",
    "    num =1\n",
    "    for key in dic.keys():\n",
    "        num = num*(dic[key]+1)\n",
    "        \n",
    "    return num-1\n",
    "solution(clothes)"
   ]
  },
  {
   "cell_type": "code",
   "execution_count": 394,
   "metadata": {},
   "outputs": [
    {
     "ename": "KeyError",
     "evalue": "'headgear'",
     "output_type": "error",
     "traceback": [
      "\u001b[1;31m---------------------------------------------------------------------------\u001b[0m",
      "\u001b[1;31mKeyError\u001b[0m                                  Traceback (most recent call last)",
      "\u001b[1;32m<ipython-input-394-dfe932b10fdf>\u001b[0m in \u001b[0;36m<module>\u001b[1;34m()\u001b[0m\n\u001b[1;32m----> 1\u001b[1;33m \u001b[0mdic\u001b[0m \u001b[1;33m=\u001b[0m \u001b[0mmakedic\u001b[0m\u001b[1;33m(\u001b[0m\u001b[0mclothes\u001b[0m\u001b[1;33m)\u001b[0m\u001b[1;33m\u001b[0m\u001b[0m\n\u001b[0m\u001b[0;32m      2\u001b[0m \u001b[0mdic\u001b[0m\u001b[1;33m\u001b[0m\u001b[0m\n\u001b[0;32m      3\u001b[0m \u001b[1;32mfor\u001b[0m \u001b[0mkey\u001b[0m \u001b[1;32min\u001b[0m \u001b[0mdic\u001b[0m\u001b[1;33m.\u001b[0m\u001b[0mkeys\u001b[0m\u001b[1;33m(\u001b[0m\u001b[1;33m)\u001b[0m\u001b[1;33m:\u001b[0m\u001b[1;33m\u001b[0m\u001b[0m\n\u001b[0;32m      4\u001b[0m     \u001b[0mprint\u001b[0m\u001b[1;33m(\u001b[0m\u001b[0mkey\u001b[0m\u001b[1;33m)\u001b[0m\u001b[1;33m\u001b[0m\u001b[0m\n",
      "\u001b[1;32m<ipython-input-393-0a3d26cfc6c4>\u001b[0m in \u001b[0;36mmakedic\u001b[1;34m(clothes)\u001b[0m\n\u001b[0;32m      7\u001b[0m             \u001b[0mdic\u001b[0m\u001b[1;33m[\u001b[0m\u001b[0mkind\u001b[0m\u001b[1;33m]\u001b[0m \u001b[1;33m+=\u001b[0m \u001b[1;36m1\u001b[0m\u001b[1;33m\u001b[0m\u001b[0m\n\u001b[0;32m      8\u001b[0m         \u001b[1;32melse\u001b[0m\u001b[1;33m:\u001b[0m\u001b[1;33m\u001b[0m\u001b[0m\n\u001b[1;32m----> 9\u001b[1;33m             \u001b[0mdic\u001b[0m\u001b[1;33m[\u001b[0m\u001b[0mkind\u001b[0m\u001b[1;33m]\u001b[0m \u001b[1;33m==\u001b[0m \u001b[1;36m1\u001b[0m\u001b[1;33m\u001b[0m\u001b[0m\n\u001b[0m\u001b[0;32m     10\u001b[0m     \u001b[1;32mreturn\u001b[0m \u001b[0mdic\u001b[0m\u001b[1;33m\u001b[0m\u001b[0m\n\u001b[0;32m     11\u001b[0m \u001b[1;32mdef\u001b[0m \u001b[0msolution\u001b[0m\u001b[1;33m(\u001b[0m\u001b[0mclothes\u001b[0m\u001b[1;33m)\u001b[0m\u001b[1;33m:\u001b[0m\u001b[1;33m\u001b[0m\u001b[0m\n",
      "\u001b[1;31mKeyError\u001b[0m: 'headgear'"
     ]
    }
   ],
   "source": [
    "dic = makedic(clothes)\n",
    "dic\n",
    "for key in dic.keys():\n",
    "    print(key)"
   ]
  },
  {
   "cell_type": "code",
   "execution_count": 106,
   "metadata": {},
   "outputs": [
    {
     "data": {
      "text/plain": [
       "5"
      ]
     },
     "execution_count": 106,
     "metadata": {},
     "output_type": "execute_result"
    }
   ],
   "source": [
    "def makedic(clothes):\n",
    "    dic = {}\n",
    "    for i in clothes:\n",
    "        \n",
    "        kind=i[1]\n",
    "        if kind in dic.keys():\n",
    "            dic[kind]+=1\n",
    "        else:\n",
    "            dic[kind]=1\n",
    "    return dic\n",
    "def solution(clothes):\n",
    "    answer = 1\n",
    "    dic = makedic(clothes)\n",
    "    for i in dic.values():\n",
    "        answer = answer*(i+1)\n",
    "    return answer-1\n",
    "solution(clothes)"
   ]
  },
  {
   "cell_type": "markdown",
   "metadata": {},
   "source": [
    "# 4"
   ]
  },
  {
   "cell_type": "code",
   "execution_count": 339,
   "metadata": {},
   "outputs": [
    {
     "data": {
      "text/plain": [
       "[4, 1, 3, 0]"
      ]
     },
     "execution_count": 339,
     "metadata": {},
     "output_type": "execute_result"
    }
   ],
   "source": [
    "import numpy as np\n",
    "genres = list([\"classic\", \"pop\", \"classic\", \"classic\", \"pop\"])\n",
    "plays = list([500, 600, 150, 800, 2500])\n",
    "import numpy as np\n",
    "from operator import itemgetter\n",
    "\n",
    "def makedic(genres,plays):\n",
    "    dic = {}\n",
    "    for i,val in enumerate(genres):\n",
    "        if genres[i] in dic.keys():\n",
    "            dic[genres[i]]+=plays[i]\n",
    "        else:\n",
    "            dic[genres[i]]=plays[i]\n",
    "\n",
    "    return dic\n",
    "\n",
    "def solution(genres,plays):\n",
    "    dic = makedic(genres,plays)\n",
    "    plays2 = np.argsort(plays)[::-1]\n",
    "    plays2=np.array(plays2)\n",
    "    genres=np.array(genres)\n",
    "    genres2=genres[plays2]\n",
    "    answer=[]\n",
    "    for key,value in sorted(dic.items(), key = itemgetter(1), reverse=True):#itemgetter(1): 2번째 요소 sort\n",
    "        \n",
    "        for i in range(len(genres2)):\n",
    "\n",
    "            if genres2[i] == key:\n",
    "                \n",
    "                answer.append(plays2[i])\n",
    "                genres2 = np.delete(genres2,i)\n",
    "\n",
    "                plays2 = np.delete(plays2,i)\n",
    "                break\n",
    "        for j in range(len(genres2)):\n",
    "\n",
    "            if genres2[j] == key:\n",
    "                answer.append(plays2[j])\n",
    "                genres2 = np.delete(genres2,j)\n",
    "\n",
    "                plays2 = np.delete(plays2,j)\n",
    "                break\n",
    "    return answer\n",
    "solution(genres,plays)"
   ]
  },
  {
   "cell_type": "code",
   "execution_count": 342,
   "metadata": {},
   "outputs": [
    {
     "data": {
      "text/plain": [
       "[('pop', 3100), ('classic', 1450)]"
      ]
     },
     "execution_count": 342,
     "metadata": {},
     "output_type": "execute_result"
    }
   ],
   "source": [
    "def makedic(genres,plays):\n",
    "    dic = {}\n",
    "    for i,val in enumerate(genres):\n",
    "        if genres[i] in dic.keys():\n",
    "            dic[genres[i]]+=plays[i]\n",
    "        else:\n",
    "            dic[genres[i]]=plays[i]\n",
    "    \n",
    "#     dic=sorted(dic,reverse=True)\n",
    "#     for val in dic.keys():\n",
    "#         dic[val]=sorted(dic[val],reverse=True)\n",
    "    return dic\n",
    "\n",
    "dic = makedic(genres,plays)\n",
    "sorted(dic.items(), key = itemgetter(1), reverse=True)"
   ]
  },
  {
   "cell_type": "code",
   "execution_count": 320,
   "metadata": {},
   "outputs": [
    {
     "data": {
      "text/plain": [
       "[('pop', 3100), ('classic', 1450)]"
      ]
     },
     "execution_count": 320,
     "metadata": {},
     "output_type": "execute_result"
    }
   ],
   "source": [
    "sorted(dic.items(), key = itemgetter(1), reverse=True)"
   ]
  },
  {
   "cell_type": "code",
   "execution_count": 299,
   "metadata": {
    "scrolled": true
   },
   "outputs": [
    {
     "data": {
      "text/plain": [
       "defaultdict(list, {'classic': [800, 500, 150], 'pop': [2500, 600]})"
      ]
     },
     "execution_count": 299,
     "metadata": {},
     "output_type": "execute_result"
    }
   ],
   "source": [
    "# from collections import defaultdict\n",
    "# def makedic2(genres,plays):\n",
    "#     dic = defaultdict(list)\n",
    "#     for i,val in enumerate(genres):\n",
    "#         dic[val].append(plays[i])\n",
    "#     for val in dic.keys():\n",
    "#         dic[val]=sorted(dic[val],reverse=True)\n",
    "#     return dic\n",
    "# dic2 = makedic2(genres,plays)\n",
    "# dic2"
   ]
  },
  {
   "cell_type": "code",
   "execution_count": 332,
   "metadata": {},
   "outputs": [
    {
     "name": "stdout",
     "output_type": "stream",
     "text": [
      "5\n",
      "['classic' 'pop' 'classic' 'classic']\n",
      "hi\n",
      "hi\n",
      "['classic' 'classic' 'classic']\n",
      "3\n",
      "['classic' 'classic']\n",
      "hi\n",
      "['classic']\n"
     ]
    },
    {
     "data": {
      "text/plain": [
       "[4, 1, 3, 0]"
      ]
     },
     "execution_count": 332,
     "metadata": {},
     "output_type": "execute_result"
    }
   ],
   "source": [
    "from collections import OrderedDict\n",
    "from operator import itemgetter\n",
    "def solution(genres,plays):\n",
    "    dic = makedic(genres,plays)\n",
    "    plays2 = np.argsort(plays)[::-1]\n",
    "    plays2=np.array(plays2)\n",
    "    genres=np.array(genres)\n",
    "    genres2=genres[plays2]\n",
    "    answer=[]\n",
    "    for key,value in sorted(dic.items(), key = itemgetter(1), reverse=True):\n",
    "        \n",
    "        for i in range(len(genres2)):\n",
    "            print(len(genres2))\n",
    "            if genres2[i] == key:\n",
    "                \n",
    "                answer.append(plays2[i])\n",
    "                genres2 = np.delete(genres2,i)\n",
    "                print(genres2)\n",
    "                plays2 = np.delete(plays2,i)\n",
    "                break\n",
    "        for j in range(len(genres2)):\n",
    "            print(\"hi\")\n",
    "            if genres2[j] == key:\n",
    "                answer.append(plays2[j])\n",
    "                genres2 = np.delete(genres2,j)\n",
    "                print(genres2)\n",
    "                plays2 = np.delete(plays2,j)\n",
    "                break\n",
    "    return answer\n",
    "solution(genres,plays)"
   ]
  },
  {
   "cell_type": "code",
   "execution_count": 305,
   "metadata": {},
   "outputs": [
    {
     "data": {
      "text/plain": [
       "array([4, 3, 1, 0, 2], dtype=int32)"
      ]
     },
     "execution_count": 305,
     "metadata": {},
     "output_type": "execute_result"
    }
   ],
   "source": [
    "plays2"
   ]
  },
  {
   "cell_type": "code",
   "execution_count": 277,
   "metadata": {},
   "outputs": [
    {
     "data": {
      "text/plain": [
       "[4, 3, 1, 0, 2]"
      ]
     },
     "execution_count": 277,
     "metadata": {},
     "output_type": "execute_result"
    }
   ],
   "source": [
    "answer=[]\n",
    "for i in range(len(plays)):\n",
    "    answer.append(plays[i])\n",
    "answer    "
   ]
  },
  {
   "cell_type": "code",
   "execution_count": 285,
   "metadata": {},
   "outputs": [
    {
     "data": {
      "text/plain": [
       "array(['classic', 'pop', 'classic', 'classic'], dtype='<U7')"
      ]
     },
     "execution_count": 285,
     "metadata": {},
     "output_type": "execute_result"
    }
   ],
   "source": [
    "genres"
   ]
  },
  {
   "cell_type": "code",
   "execution_count": 172,
   "metadata": {},
   "outputs": [
    {
     "data": {
      "text/plain": [
       "'classic'"
      ]
     },
     "execution_count": 172,
     "metadata": {},
     "output_type": "execute_result"
    }
   ],
   "source": [
    "genres[0]"
   ]
  },
  {
   "cell_type": "code",
   "execution_count": 160,
   "metadata": {},
   "outputs": [
    {
     "data": {
      "text/plain": [
       "4"
      ]
     },
     "execution_count": 160,
     "metadata": {},
     "output_type": "execute_result"
    }
   ],
   "source": [
    "import numpy as np\n",
    "np.argmax(plays)"
   ]
  },
  {
   "cell_type": "code",
   "execution_count": 125,
   "metadata": {},
   "outputs": [
    {
     "name": "stdout",
     "output_type": "stream",
     "text": [
      "0\n",
      "1\n",
      "2\n",
      "3\n",
      "4\n"
     ]
    }
   ],
   "source": [
    "for i,val in enumerate(genres):\n",
    "    print(i)"
   ]
  }
 ],
 "metadata": {
  "kernelspec": {
   "display_name": "Python 3",
   "language": "python",
   "name": "python3"
  },
  "language_info": {
   "codemirror_mode": {
    "name": "ipython",
    "version": 3
   },
   "file_extension": ".py",
   "mimetype": "text/x-python",
   "name": "python",
   "nbconvert_exporter": "python",
   "pygments_lexer": "ipython3",
   "version": "3.6.5"
  }
 },
 "nbformat": 4,
 "nbformat_minor": 2
}
